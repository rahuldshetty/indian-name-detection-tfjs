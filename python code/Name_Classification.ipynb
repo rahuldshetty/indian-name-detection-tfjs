{
  "nbformat": 4,
  "nbformat_minor": 0,
  "metadata": {
    "colab": {
      "name": "Name Classification.ipynb",
      "provenance": []
    },
    "kernelspec": {
      "name": "python3",
      "display_name": "Python 3"
    }
  },
  "cells": [
    {
      "cell_type": "code",
      "metadata": {
        "colab": {
          "base_uri": "https://localhost:8080/"
        },
        "id": "QvrFlX5NCquk",
        "outputId": "12ddd4a2-c63e-4d3d-e0b7-f0181578806c"
      },
      "source": [
        "!wget https://raw.githubusercontent.com/balasahebgulave/Dataset-Indian-Names/master/Indian-Female-Names.csv\r\n",
        "!wget https://raw.githubusercontent.com/balasahebgulave/Dataset-Indian-Names/master/Indian-Male-Names.csv"
      ],
      "execution_count": 1,
      "outputs": [
        {
          "output_type": "stream",
          "text": [
            "--2021-02-07 19:51:36--  https://raw.githubusercontent.com/balasahebgulave/Dataset-Indian-Names/master/Indian-Female-Names.csv\n",
            "Resolving raw.githubusercontent.com (raw.githubusercontent.com)... 151.101.0.133, 151.101.64.133, 151.101.128.133, ...\n",
            "Connecting to raw.githubusercontent.com (raw.githubusercontent.com)|151.101.0.133|:443... connected.\n",
            "HTTP request sent, awaiting response... 200 OK\n",
            "Length: 284611 (278K) [text/plain]\n",
            "Saving to: ‘Indian-Female-Names.csv’\n",
            "\n",
            "\rIndian-Female-Names   0%[                    ]       0  --.-KB/s               \rIndian-Female-Names 100%[===================>] 277.94K  --.-KB/s    in 0.04s   \n",
            "\n",
            "2021-02-07 19:51:36 (7.31 MB/s) - ‘Indian-Female-Names.csv’ saved [284611/284611]\n",
            "\n",
            "--2021-02-07 19:51:36--  https://raw.githubusercontent.com/balasahebgulave/Dataset-Indian-Names/master/Indian-Male-Names.csv\n",
            "Resolving raw.githubusercontent.com (raw.githubusercontent.com)... 151.101.0.133, 151.101.64.133, 151.101.128.133, ...\n",
            "Connecting to raw.githubusercontent.com (raw.githubusercontent.com)|151.101.0.133|:443... connected.\n",
            "HTTP request sent, awaiting response... 200 OK\n",
            "Length: 297859 (291K) [text/plain]\n",
            "Saving to: ‘Indian-Male-Names.csv’\n",
            "\n",
            "Indian-Male-Names.c 100%[===================>] 290.88K  --.-KB/s    in 0.04s   \n",
            "\n",
            "2021-02-07 19:51:36 (7.43 MB/s) - ‘Indian-Male-Names.csv’ saved [297859/297859]\n",
            "\n"
          ],
          "name": "stdout"
        }
      ]
    },
    {
      "cell_type": "code",
      "metadata": {
        "id": "ZGPq1qk4DJBh"
      },
      "source": [
        "import pandas as pd\r\n",
        "import numpy as np"
      ],
      "execution_count": 2,
      "outputs": []
    },
    {
      "cell_type": "code",
      "metadata": {
        "id": "1NpDrG3ZDMAW"
      },
      "source": [
        "female = pd.read_csv('Indian-Female-Names.csv').name\r\n",
        "male = pd.read_csv('Indian-Male-Names.csv').name"
      ],
      "execution_count": 29,
      "outputs": []
    },
    {
      "cell_type": "code",
      "metadata": {
        "id": "1R9qUdX1De9V"
      },
      "source": [
        "x = []\r\n",
        "y = []\r\n",
        "\r\n",
        "import re\r\n",
        "\r\n",
        "def process_text(name):\r\n",
        "  name = name.lower()\r\n",
        "  name = re.sub(\"[^a-z ]\", \"\", name)\r\n",
        "  name = \" \".join([x for x in name.split() if len(x)!=1])\r\n",
        "  return name\r\n",
        "\r\n",
        "for name in female:\r\n",
        "  try:\r\n",
        "    x.append(process_text(name))\r\n",
        "    y.append(0)\r\n",
        "  except:\r\n",
        "    pass\r\n",
        "\r\n",
        "for name in male:\r\n",
        "  try:\r\n",
        "    x.append(process_text(name))\r\n",
        "    y.append(1)\r\n",
        "  except:\r\n",
        "    pass"
      ],
      "execution_count": 30,
      "outputs": []
    },
    {
      "cell_type": "code",
      "metadata": {
        "colab": {
          "base_uri": "https://localhost:8080/"
        },
        "id": "HjjqNAKcEgh6",
        "outputId": "9c895d3a-a622-4fbe-f277-3c777b0a13ae"
      },
      "source": [
        "print(x[:10])"
      ],
      "execution_count": 31,
      "outputs": [
        {
          "output_type": "stream",
          "text": [
            "['shivani', 'isha', 'smt shyani devi', 'divya', 'mansi', 'mazida', 'pooja', 'kajal', 'meena', 'sonam']\n"
          ],
          "name": "stdout"
        }
      ]
    },
    {
      "cell_type": "code",
      "metadata": {
        "id": "Tyi08FAxEZJc"
      },
      "source": [
        "y = np.array(y)"
      ],
      "execution_count": 32,
      "outputs": []
    },
    {
      "cell_type": "code",
      "metadata": {
        "colab": {
          "base_uri": "https://localhost:8080/"
        },
        "id": "u2bFy5c5Gnpl",
        "outputId": "8c7da669-66e7-4334-d0c5-18b0d89ae3a5"
      },
      "source": [
        "chars = list(sorted(set(\"\".join(x))))\r\n",
        "print(chars)"
      ],
      "execution_count": 34,
      "outputs": [
        {
          "output_type": "stream",
          "text": [
            "[' ', 'a', 'b', 'c', 'd', 'e', 'f', 'g', 'h', 'i', 'j', 'k', 'l', 'm', 'n', 'o', 'p', 'q', 'r', 's', 't', 'u', 'v', 'w', 'x', 'y', 'z']\n"
          ],
          "name": "stdout"
        }
      ]
    },
    {
      "cell_type": "code",
      "metadata": {
        "colab": {
          "base_uri": "https://localhost:8080/"
        },
        "id": "02KW1lmGGshc",
        "outputId": "6800f154-6052-4635-8e41-2b9b801b58b6"
      },
      "source": [
        "char2id = {chars[i]: i for i in range(len(chars))}\r\n",
        "print(char2id)"
      ],
      "execution_count": 35,
      "outputs": [
        {
          "output_type": "stream",
          "text": [
            "{' ': 0, 'a': 1, 'b': 2, 'c': 3, 'd': 4, 'e': 5, 'f': 6, 'g': 7, 'h': 8, 'i': 9, 'j': 10, 'k': 11, 'l': 12, 'm': 13, 'n': 14, 'o': 15, 'p': 16, 'q': 17, 'r': 18, 's': 19, 't': 20, 'u': 21, 'v': 22, 'w': 23, 'x': 24, 'y': 25, 'z': 26}\n"
          ],
          "name": "stdout"
        }
      ]
    },
    {
      "cell_type": "code",
      "metadata": {
        "id": "NvSunxzqI9pu"
      },
      "source": [
        "import json\r\n",
        "json.dump(char2id, open('char2id.json','w'))"
      ],
      "execution_count": 36,
      "outputs": []
    },
    {
      "cell_type": "code",
      "metadata": {
        "id": "m7UcHAPrIGwN"
      },
      "source": [
        "max_len = 10\r\n",
        "x_data = np.zeros(( len(x), max_len), dtype='uint8')\r\n",
        "for i, name in enumerate(x):\r\n",
        "  for j, chars in enumerate(name):\r\n",
        "    if j >= max_len: continue\r\n",
        "    x_data[i, j] = char2id[chars]"
      ],
      "execution_count": 42,
      "outputs": []
    },
    {
      "cell_type": "code",
      "metadata": {
        "id": "HHx3nJuyJLuV"
      },
      "source": [
        "import tensorflow as tf \r\n",
        "\r\n",
        "model = tf.keras.Sequential([\r\n",
        "      tf.keras.layers.Embedding(len(char2id) + 1, 100, input_length=max_len),\r\n",
        "      tf.keras.layers.Flatten(),\r\n",
        "      tf.keras.layers.Dense(512, activation='relu'),\r\n",
        "      tf.keras.layers.Dense(1, activation='sigmoid')\r\n",
        "])\r\n",
        "\r\n",
        "model.compile(loss='binary_crossentropy', optimizer='rmsprop', metrics=['accuracy'])"
      ],
      "execution_count": 53,
      "outputs": []
    },
    {
      "cell_type": "code",
      "metadata": {
        "colab": {
          "base_uri": "https://localhost:8080/"
        },
        "id": "WNGi_DnJL0qW",
        "outputId": "9110802c-7cdd-46da-83dc-67674a16cf50"
      },
      "source": [
        "model.summary()"
      ],
      "execution_count": 54,
      "outputs": [
        {
          "output_type": "stream",
          "text": [
            "Model: \"sequential_4\"\n",
            "_________________________________________________________________\n",
            "Layer (type)                 Output Shape              Param #   \n",
            "=================================================================\n",
            "embedding_4 (Embedding)      (None, 10, 100)           2800      \n",
            "_________________________________________________________________\n",
            "flatten (Flatten)            (None, 1000)              0         \n",
            "_________________________________________________________________\n",
            "dense_8 (Dense)              (None, 512)               512512    \n",
            "_________________________________________________________________\n",
            "dense_9 (Dense)              (None, 1)                 513       \n",
            "=================================================================\n",
            "Total params: 515,825\n",
            "Trainable params: 515,825\n",
            "Non-trainable params: 0\n",
            "_________________________________________________________________\n"
          ],
          "name": "stdout"
        }
      ]
    },
    {
      "cell_type": "code",
      "metadata": {
        "colab": {
          "base_uri": "https://localhost:8080/"
        },
        "id": "Dv97OH-JLzKE",
        "outputId": "f4c674bf-f6f6-46e4-a717-eb0c0bb1cb11"
      },
      "source": [
        "history = model.fit(x_data, y, epochs=5, validation_split = 0.15)"
      ],
      "execution_count": 59,
      "outputs": [
        {
          "output_type": "stream",
          "text": [
            "Epoch 1/5\n",
            "802/802 [==============================] - 8s 10ms/step - loss: 0.0915 - accuracy: 0.9754 - val_loss: 0.5680 - val_accuracy: 0.8628\n",
            "Epoch 2/5\n",
            "802/802 [==============================] - 8s 10ms/step - loss: 0.0916 - accuracy: 0.9752 - val_loss: 0.4675 - val_accuracy: 0.8951\n",
            "Epoch 3/5\n",
            "802/802 [==============================] - 8s 10ms/step - loss: 0.0908 - accuracy: 0.9763 - val_loss: 0.4724 - val_accuracy: 0.8897\n",
            "Epoch 4/5\n",
            "802/802 [==============================] - 8s 10ms/step - loss: 0.0912 - accuracy: 0.9755 - val_loss: 0.4242 - val_accuracy: 0.9023\n",
            "Epoch 5/5\n",
            "802/802 [==============================] - 8s 10ms/step - loss: 0.0896 - accuracy: 0.9757 - val_loss: 0.3886 - val_accuracy: 0.9054\n"
          ],
          "name": "stdout"
        }
      ]
    },
    {
      "cell_type": "code",
      "metadata": {
        "id": "uDcxI3spMLws"
      },
      "source": [
        "model.save('name.h5')"
      ],
      "execution_count": 57,
      "outputs": []
    },
    {
      "cell_type": "code",
      "metadata": {
        "colab": {
          "base_uri": "https://localhost:8080/"
        },
        "id": "IHBqK9vHNIE9",
        "outputId": "25b79a48-0ac8-4af3-fd01-4ef1de27bec7"
      },
      "source": [
        "c2i = {' ': 0, 'a': 1, 'b': 2, 'c': 3, 'd': 4, 'e': 5, 'f': 6, 'g': 7, 'h': 8, 'i': 9, 'j': 10, 'k': 11, 'l': 12, 'm': 13, 'n': 14, 'o': 15, 'p': 16, 'q': 17, 'r': 18, 's': 19, 't': 20, 'u': 21, 'v': 22, 'w': 23, 'x': 24, 'y': 25, 'z': 26}\r\n",
        "max_len = 10\r\n",
        "\r\n",
        "def process_text(name):\r\n",
        "  name = name.lower()\r\n",
        "  name = re.sub(\"[^a-z ]\", \"\", name)\r\n",
        "  name = \" \".join([x for x in name.split() if len(x)!=1])\r\n",
        "  x_ = [0]*max_len\r\n",
        "  for i,char in enumerate(name):\r\n",
        "    if i >=  max_len: break\r\n",
        "    x_[i] = c2i[char]\r\n",
        "  return np.array([x_])\r\n",
        "\r\n",
        "process_text(\"Rahul D Shetty\")\r\n"
      ],
      "execution_count": 58,
      "outputs": [
        {
          "output_type": "execute_result",
          "data": {
            "text/plain": [
              "array([[18,  1,  8, 21, 12,  0, 19,  8,  5, 20]])"
            ]
          },
          "metadata": {
            "tags": []
          },
          "execution_count": 58
        }
      ]
    },
    {
      "cell_type": "code",
      "metadata": {
        "colab": {
          "base_uri": "https://localhost:8080/"
        },
        "id": "dW-ds8G3OQm9",
        "outputId": "8cf774db-17dd-44cf-aeb1-15f1e2d7a76d"
      },
      "source": [
        "def predict(text):\r\n",
        "  np_ = process_text(text)\r\n",
        "  v = model.predict(np_)[0]\r\n",
        "  if v >= 0.5:\r\n",
        "    return \"Male\"\r\n",
        "  return \"Female\"\r\n",
        "\r\n",
        "print(predict(\"Rahul\"), predict(\"Max Plank\"), predict(\"Anna\"), predict(\"Vani\"))\r\n"
      ],
      "execution_count": 63,
      "outputs": [
        {
          "output_type": "stream",
          "text": [
            "Male Male Female Female\n"
          ],
          "name": "stdout"
        }
      ]
    },
    {
      "cell_type": "code",
      "metadata": {
        "id": "Xa2b5ewjOqyk"
      },
      "source": [
        ""
      ],
      "execution_count": null,
      "outputs": []
    }
  ]
}